{
 "cells": [
  {
   "cell_type": "markdown",
   "metadata": {},
   "source": [
    "Spike triggered average examples, using `as_strided` for super fast computation.  \n",
    "Note: Need to load in stimulus and spike times from whatever datasets we go with."
   ]
  },
  {
   "cell_type": "code",
   "execution_count": 3,
   "metadata": {
    "collapsed": false
   },
   "outputs": [],
   "source": [
    "import numpy as np\n",
    "from numpy.lib.stride_tricks import as_strided"
   ]
  },
  {
   "cell_type": "markdown",
   "metadata": {},
   "source": [
    "### 1-dimensional STA"
   ]
  },
  {
   "cell_type": "code",
   "execution_count": null,
   "metadata": {
    "collapsed": true
   },
   "outputs": [],
   "source": [
    "window = 150\n",
    "nan_arr = np.empty(window)\n",
    "nan_arr[:] = np.NAN\n",
    "s = as_strided(np.concatenate([nan_arr,stim]), shape=(stim.size, window), strides=(8,8))\n",
    "sta = np.nanmean(s[times,:], axis=0)"
   ]
  },
  {
   "cell_type": "code",
   "execution_count": null,
   "metadata": {
    "collapsed": true
   },
   "outputs": [],
   "source": [
    "plt.plot(np.linspace(-300,0,150),sta);\n",
    "plt.xlabel('Lag (ms)');"
   ]
  },
  {
   "cell_type": "markdown",
   "metadata": {},
   "source": [
    "### 2-dimensional STA"
   ]
  },
  {
   "cell_type": "code",
   "execution_count": null,
   "metadata": {
    "collapsed": true
   },
   "outputs": [],
   "source": [
    "# Prepend the stimulus with \"0\" frames\n",
    "window = 50\n",
    "nan_arr = np.empty((window, 40, 40))\n",
    "nan_arr[:] = np.NAN\n",
    "a = np.concatenate([nan_arr,stim])\n",
    "\n",
    "# Construct \"fake\" array for use in STA computation\n",
    "s = as_strided(a, shape=(stim.shape[0], window, 40, 40), strides=(1600, 1600, 40, 1))\n",
    "\n",
    "# Compute STA\n",
    "sta = np.nanmean(s[times,:,:,:], axis=0)"
   ]
  },
  {
   "cell_type": "code",
   "execution_count": null,
   "metadata": {
    "collapsed": true
   },
   "outputs": [],
   "source": [
    "# Plot\n",
    "f, axes = plt.subplots(3,3, sharex=True, sharey=True, figsize=(10,10))\n",
    "for ax, time in zip(axes.flatten(), np.linspace(49, 9, 9)):\n",
    "    mesh = ax.pcolormesh(sta[time,:,:], cmap='RdBu', vmax=0.1, vmin=-0.1);\n",
    "    ax.set_title('%d ms lag' % (50-time-1), fontsize=11);\n",
    "    ax.set_ylabel('Check');\n",
    "    ax.set_xlabel('Check');\n",
    "    \n",
    "pos = f.add_axes([0.93,0.12,0.02,0.78])    \n",
    "plt.colorbar(mesh, cax=pos);"
   ]
  }
 ],
 "metadata": {
  "kernelspec": {
   "display_name": "Python 2",
   "language": "python",
   "name": "python2"
  },
  "language_info": {
   "codemirror_mode": {
    "name": "ipython",
    "version": 2
   },
   "file_extension": ".py",
   "mimetype": "text/x-python",
   "name": "python",
   "nbconvert_exporter": "python",
   "pygments_lexer": "ipython2",
   "version": "2.7.9"
  }
 },
 "nbformat": 4,
 "nbformat_minor": 0
}
